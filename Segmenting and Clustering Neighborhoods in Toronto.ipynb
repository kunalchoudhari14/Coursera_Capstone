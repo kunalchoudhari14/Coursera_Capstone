{
 "cells": [
  {
   "cell_type": "markdown",
   "metadata": {
    "collapsed": true
   },
   "source": [
    "# Segmenting and Clustering Neighborhoods in Toronto"
   ]
  },
  {
   "cell_type": "code",
   "execution_count": 1,
   "metadata": {
    "collapsed": true
   },
   "outputs": [],
   "source": [
    "from bs4 import BeautifulSoup\n",
    "import requests\n",
    "import csv\n",
    "import json\n",
    "import xml\n",
    "import pandas as pd"
   ]
  },
  {
   "cell_type": "code",
   "execution_count": 2,
   "metadata": {
    "collapsed": true
   },
   "outputs": [],
   "source": [
    "column_names = ['Postalcode','Borough','Neighborhood']\n",
    "toronto = pd.DataFrame(columns = column_names)"
   ]
  },
  {
   "cell_type": "code",
   "execution_count": 3,
   "metadata": {
    "collapsed": false
   },
   "outputs": [],
   "source": [
    "url='https://en.wikipedia.org/wiki/List_of_postal_codes_of_Canada:_M'\n",
    "source = requests.get(url).text\n",
    "soup = BeautifulSoup(source, 'lxml')#Beautiful Soup to Parse the url page\n",
    "table=soup.find('table')\n",
    "x=table.tbody"
   ]
  },
  {
   "cell_type": "code",
   "execution_count": 4,
   "metadata": {
    "collapsed": false
   },
   "outputs": [],
   "source": [
    "postcode = 0\n",
    "borough = 0\n",
    "neighborhood = 0\n",
    "\n",
    "for tr in x.find_all('tr'):\n",
    "    i = 0\n",
    "    for td in tr.find_all('td'):\n",
    "        if i == 0:\n",
    "            postcode = td.text\n",
    "            i = i + 1\n",
    "        elif i == 1:\n",
    "            borough = td.text\n",
    "            i = i + 1\n",
    "        elif i == 2:\n",
    "            neighborhood = td.text.strip('\\n').replace(']','')\n",
    "    toronto = toronto.append({'Postalcode': postcode,'Borough': borough,'Neighborhood': neighborhood},ignore_index=True)\n",
    "        \n"
   ]
  },
  {
   "cell_type": "code",
   "execution_count": 5,
   "metadata": {
    "collapsed": false
   },
   "outputs": [
    {
     "data": {
      "text/html": [
       "<div>\n",
       "<table border=\"1\" class=\"dataframe\">\n",
       "  <thead>\n",
       "    <tr style=\"text-align: right;\">\n",
       "      <th></th>\n",
       "      <th>Postalcode</th>\n",
       "      <th>Borough</th>\n",
       "      <th>Neighborhood</th>\n",
       "    </tr>\n",
       "  </thead>\n",
       "  <tbody>\n",
       "    <tr>\n",
       "      <th>0</th>\n",
       "      <td>M1B</td>\n",
       "      <td>Scarborough</td>\n",
       "      <td>Rouge, Malvern</td>\n",
       "    </tr>\n",
       "    <tr>\n",
       "      <th>1</th>\n",
       "      <td>M1C</td>\n",
       "      <td>Scarborough</td>\n",
       "      <td>Highland Creek, Rouge Hill, Port Union</td>\n",
       "    </tr>\n",
       "    <tr>\n",
       "      <th>2</th>\n",
       "      <td>M1E</td>\n",
       "      <td>Scarborough</td>\n",
       "      <td>Guildwood, Morningside, West Hill</td>\n",
       "    </tr>\n",
       "    <tr>\n",
       "      <th>3</th>\n",
       "      <td>M1G</td>\n",
       "      <td>Scarborough</td>\n",
       "      <td>Woburn</td>\n",
       "    </tr>\n",
       "    <tr>\n",
       "      <th>4</th>\n",
       "      <td>M1H</td>\n",
       "      <td>Scarborough</td>\n",
       "      <td>Cedarbrae</td>\n",
       "    </tr>\n",
       "  </tbody>\n",
       "</table>\n",
       "</div>"
      ],
      "text/plain": [
       "  Postalcode      Borough                            Neighborhood\n",
       "0        M1B  Scarborough                          Rouge, Malvern\n",
       "1        M1C  Scarborough  Highland Creek, Rouge Hill, Port Union\n",
       "2        M1E  Scarborough       Guildwood, Morningside, West Hill\n",
       "3        M1G  Scarborough                                  Woburn\n",
       "4        M1H  Scarborough                               Cedarbrae"
      ]
     },
     "execution_count": 5,
     "metadata": {},
     "output_type": "execute_result"
    }
   ],
   "source": [
    "toronto = toronto[toronto.Borough!='Not assigned']\n",
    "toronto = toronto[toronto.Borough!= 0]\n",
    "toronto.reset_index(drop = True, inplace = True)\n",
    "i = 0\n",
    "for i in range(0,toronto.shape[0]):\n",
    "    if toronto.iloc[i][2] == 'Not assigned':\n",
    "        toronto.iloc[i][2] = toronto.iloc[i][1]\n",
    "        i = i+1\n",
    "                                 \n",
    "df = toronto.groupby(['Postalcode','Borough'])['Neighborhood'].apply(', '.join).reset_index()\n",
    "df.head()"
   ]
  },
  {
   "cell_type": "code",
   "execution_count": 6,
   "metadata": {
    "collapsed": true
   },
   "outputs": [],
   "source": [
    "df = df.dropna()\n",
    "empty = 'Not assigned'\n",
    "df = df[(df.Postalcode != empty ) & (df.Borough != empty) & (df.Neighborhood != empty)]"
   ]
  },
  {
   "cell_type": "code",
   "execution_count": 7,
   "metadata": {
    "collapsed": false
   },
   "outputs": [
    {
     "data": {
      "text/html": [
       "<div>\n",
       "<table border=\"1\" class=\"dataframe\">\n",
       "  <thead>\n",
       "    <tr style=\"text-align: right;\">\n",
       "      <th></th>\n",
       "      <th>Postalcode</th>\n",
       "      <th>Borough</th>\n",
       "      <th>Neighborhood</th>\n",
       "    </tr>\n",
       "  </thead>\n",
       "  <tbody>\n",
       "    <tr>\n",
       "      <th>0</th>\n",
       "      <td>M1B</td>\n",
       "      <td>Scarborough</td>\n",
       "      <td>Rouge, Malvern</td>\n",
       "    </tr>\n",
       "    <tr>\n",
       "      <th>1</th>\n",
       "      <td>M1C</td>\n",
       "      <td>Scarborough</td>\n",
       "      <td>Highland Creek, Rouge Hill, Port Union</td>\n",
       "    </tr>\n",
       "    <tr>\n",
       "      <th>2</th>\n",
       "      <td>M1E</td>\n",
       "      <td>Scarborough</td>\n",
       "      <td>Guildwood, Morningside, West Hill</td>\n",
       "    </tr>\n",
       "    <tr>\n",
       "      <th>3</th>\n",
       "      <td>M1G</td>\n",
       "      <td>Scarborough</td>\n",
       "      <td>Woburn</td>\n",
       "    </tr>\n",
       "    <tr>\n",
       "      <th>4</th>\n",
       "      <td>M1H</td>\n",
       "      <td>Scarborough</td>\n",
       "      <td>Cedarbrae</td>\n",
       "    </tr>\n",
       "  </tbody>\n",
       "</table>\n",
       "</div>"
      ],
      "text/plain": [
       "  Postalcode      Borough                            Neighborhood\n",
       "0        M1B  Scarborough                          Rouge, Malvern\n",
       "1        M1C  Scarborough  Highland Creek, Rouge Hill, Port Union\n",
       "2        M1E  Scarborough       Guildwood, Morningside, West Hill\n",
       "3        M1G  Scarborough                                  Woburn\n",
       "4        M1H  Scarborough                               Cedarbrae"
      ]
     },
     "execution_count": 7,
     "metadata": {},
     "output_type": "execute_result"
    }
   ],
   "source": [
    "df.head()"
   ]
  },
  {
   "cell_type": "code",
   "execution_count": 8,
   "metadata": {
    "collapsed": true
   },
   "outputs": [],
   "source": [
    "\n",
    "def neighborhood_list(grouped):    \n",
    "    return ', '.join(sorted(grouped['Neighborhood'].tolist()))\n",
    "                    \n",
    "grp = df.groupby(['Postalcode', 'Borough'])\n",
    "df2 = grp.apply(neighborhood_list).reset_index(name='Neighborhood')"
   ]
  },
  {
   "cell_type": "code",
   "execution_count": 9,
   "metadata": {
    "collapsed": false
   },
   "outputs": [
    {
     "name": "stdout",
     "output_type": "stream",
     "text": [
      "(103, 3)\n"
     ]
    },
    {
     "data": {
      "text/html": [
       "<div>\n",
       "<table border=\"1\" class=\"dataframe\">\n",
       "  <thead>\n",
       "    <tr style=\"text-align: right;\">\n",
       "      <th></th>\n",
       "      <th>Postalcode</th>\n",
       "      <th>Borough</th>\n",
       "      <th>Neighborhood</th>\n",
       "    </tr>\n",
       "  </thead>\n",
       "  <tbody>\n",
       "    <tr>\n",
       "      <th>0</th>\n",
       "      <td>M1B</td>\n",
       "      <td>Scarborough</td>\n",
       "      <td>Rouge, Malvern</td>\n",
       "    </tr>\n",
       "    <tr>\n",
       "      <th>1</th>\n",
       "      <td>M1C</td>\n",
       "      <td>Scarborough</td>\n",
       "      <td>Highland Creek, Rouge Hill, Port Union</td>\n",
       "    </tr>\n",
       "    <tr>\n",
       "      <th>2</th>\n",
       "      <td>M1E</td>\n",
       "      <td>Scarborough</td>\n",
       "      <td>Guildwood, Morningside, West Hill</td>\n",
       "    </tr>\n",
       "    <tr>\n",
       "      <th>3</th>\n",
       "      <td>M1G</td>\n",
       "      <td>Scarborough</td>\n",
       "      <td>Woburn</td>\n",
       "    </tr>\n",
       "    <tr>\n",
       "      <th>4</th>\n",
       "      <td>M1H</td>\n",
       "      <td>Scarborough</td>\n",
       "      <td>Cedarbrae</td>\n",
       "    </tr>\n",
       "  </tbody>\n",
       "</table>\n",
       "</div>"
      ],
      "text/plain": [
       "  Postalcode      Borough                            Neighborhood\n",
       "0        M1B  Scarborough                          Rouge, Malvern\n",
       "1        M1C  Scarborough  Highland Creek, Rouge Hill, Port Union\n",
       "2        M1E  Scarborough       Guildwood, Morningside, West Hill\n",
       "3        M1G  Scarborough                                  Woburn\n",
       "4        M1H  Scarborough                               Cedarbrae"
      ]
     },
     "execution_count": 9,
     "metadata": {},
     "output_type": "execute_result"
    }
   ],
   "source": [
    "print(df2.shape)\n",
    "df2.head()"
   ]
  },
  {
   "cell_type": "code",
   "execution_count": 10,
   "metadata": {
    "collapsed": false
   },
   "outputs": [],
   "source": [
    "import geocoder"
   ]
  },
  {
   "cell_type": "code",
   "execution_count": 11,
   "metadata": {
    "collapsed": false
   },
   "outputs": [],
   "source": [
    "def get_latlng(postal_code):\n",
    "    # initialize your variable to None\n",
    "    lat_lng_coords = None\n",
    "    # loop until you get the coordinates\n",
    "    while(lat_lng_coords is None):\n",
    "        g = geocoder.arcgis('{}, Toronto, Ontario'.format(postal_code))\n",
    "        lat_lng_coords = g.latlng\n",
    "    return lat_lng_coords\n",
    "    "
   ]
  },
  {
   "cell_type": "code",
   "execution_count": 12,
   "metadata": {
    "collapsed": false
   },
   "outputs": [
    {
     "data": {
      "text/plain": [
       "[43.70976500000006, -79.36379132299999]"
      ]
     },
     "execution_count": 12,
     "metadata": {},
     "output_type": "execute_result"
    }
   ],
   "source": [
    "get_latlng('M4G')"
   ]
  },
  {
   "cell_type": "code",
   "execution_count": 13,
   "metadata": {
    "collapsed": false
   },
   "outputs": [],
   "source": [
    "postal_codes = df2['Postalcode']    \n",
    "coords = [ get_latlng(postal_code) for postal_code in postal_codes.tolist() ]"
   ]
  },
  {
   "cell_type": "code",
   "execution_count": 14,
   "metadata": {
    "collapsed": true
   },
   "outputs": [],
   "source": [
    "df_coords = pd.DataFrame(coords, columns=['Latitude', 'Longitude'])\n",
    "df['Latitude'] = df_coords['Latitude']\n",
    "df['Longitude'] = df_coords['Longitude']"
   ]
  },
  {
   "cell_type": "code",
   "execution_count": 15,
   "metadata": {
    "collapsed": false
   },
   "outputs": [
    {
     "data": {
      "text/html": [
       "<div>\n",
       "<table border=\"1\" class=\"dataframe\">\n",
       "  <thead>\n",
       "    <tr style=\"text-align: right;\">\n",
       "      <th></th>\n",
       "      <th>Postalcode</th>\n",
       "      <th>Borough</th>\n",
       "      <th>Neighborhood</th>\n",
       "      <th>Latitude</th>\n",
       "      <th>Longitude</th>\n",
       "    </tr>\n",
       "  </thead>\n",
       "  <tbody>\n",
       "    <tr>\n",
       "      <th>57</th>\n",
       "      <td>M5G</td>\n",
       "      <td>Downtown Toronto</td>\n",
       "      <td>Central Bay Street</td>\n",
       "      <td>43.656091</td>\n",
       "      <td>-79.38493</td>\n",
       "    </tr>\n",
       "  </tbody>\n",
       "</table>\n",
       "</div>"
      ],
      "text/plain": [
       "   Postalcode           Borough        Neighborhood   Latitude  Longitude\n",
       "57        M5G  Downtown Toronto  Central Bay Street  43.656091  -79.38493"
      ]
     },
     "execution_count": 15,
     "metadata": {},
     "output_type": "execute_result"
    }
   ],
   "source": [
    "df[df.Postalcode == 'M5G']"
   ]
  },
  {
   "cell_type": "code",
   "execution_count": 16,
   "metadata": {
    "collapsed": false
   },
   "outputs": [
    {
     "data": {
      "text/html": [
       "<div>\n",
       "<table border=\"1\" class=\"dataframe\">\n",
       "  <thead>\n",
       "    <tr style=\"text-align: right;\">\n",
       "      <th></th>\n",
       "      <th>Postalcode</th>\n",
       "      <th>Borough</th>\n",
       "      <th>Neighborhood</th>\n",
       "      <th>Latitude</th>\n",
       "      <th>Longitude</th>\n",
       "    </tr>\n",
       "  </thead>\n",
       "  <tbody>\n",
       "    <tr>\n",
       "      <th>0</th>\n",
       "      <td>M1B</td>\n",
       "      <td>Scarborough</td>\n",
       "      <td>Rouge, Malvern</td>\n",
       "      <td>43.811650</td>\n",
       "      <td>-79.195561</td>\n",
       "    </tr>\n",
       "    <tr>\n",
       "      <th>1</th>\n",
       "      <td>M1C</td>\n",
       "      <td>Scarborough</td>\n",
       "      <td>Highland Creek, Rouge Hill, Port Union</td>\n",
       "      <td>43.785605</td>\n",
       "      <td>-79.158701</td>\n",
       "    </tr>\n",
       "    <tr>\n",
       "      <th>2</th>\n",
       "      <td>M1E</td>\n",
       "      <td>Scarborough</td>\n",
       "      <td>Guildwood, Morningside, West Hill</td>\n",
       "      <td>43.765690</td>\n",
       "      <td>-79.175299</td>\n",
       "    </tr>\n",
       "    <tr>\n",
       "      <th>3</th>\n",
       "      <td>M1G</td>\n",
       "      <td>Scarborough</td>\n",
       "      <td>Woburn</td>\n",
       "      <td>43.768216</td>\n",
       "      <td>-79.217610</td>\n",
       "    </tr>\n",
       "    <tr>\n",
       "      <th>4</th>\n",
       "      <td>M1H</td>\n",
       "      <td>Scarborough</td>\n",
       "      <td>Cedarbrae</td>\n",
       "      <td>43.769608</td>\n",
       "      <td>-79.239440</td>\n",
       "    </tr>\n",
       "    <tr>\n",
       "      <th>5</th>\n",
       "      <td>M1J</td>\n",
       "      <td>Scarborough</td>\n",
       "      <td>Scarborough Village</td>\n",
       "      <td>43.743085</td>\n",
       "      <td>-79.232172</td>\n",
       "    </tr>\n",
       "    <tr>\n",
       "      <th>6</th>\n",
       "      <td>M1K</td>\n",
       "      <td>Scarborough</td>\n",
       "      <td>East Birchmount Park, Ionview, Kennedy Park</td>\n",
       "      <td>43.726260</td>\n",
       "      <td>-79.263670</td>\n",
       "    </tr>\n",
       "    <tr>\n",
       "      <th>7</th>\n",
       "      <td>M1L</td>\n",
       "      <td>Scarborough</td>\n",
       "      <td>Clairlea, Golden Mile, Oakridge</td>\n",
       "      <td>43.713213</td>\n",
       "      <td>-79.284910</td>\n",
       "    </tr>\n",
       "    <tr>\n",
       "      <th>8</th>\n",
       "      <td>M1M</td>\n",
       "      <td>Scarborough</td>\n",
       "      <td>Cliffcrest, Cliffside, Scarborough Village West</td>\n",
       "      <td>43.723575</td>\n",
       "      <td>-79.234976</td>\n",
       "    </tr>\n",
       "    <tr>\n",
       "      <th>9</th>\n",
       "      <td>M1N</td>\n",
       "      <td>Scarborough</td>\n",
       "      <td>Birch Cliff, Cliffside West</td>\n",
       "      <td>43.696690</td>\n",
       "      <td>-79.260069</td>\n",
       "    </tr>\n",
       "  </tbody>\n",
       "</table>\n",
       "</div>"
      ],
      "text/plain": [
       "  Postalcode      Borough                                     Neighborhood  \\\n",
       "0        M1B  Scarborough                                   Rouge, Malvern   \n",
       "1        M1C  Scarborough           Highland Creek, Rouge Hill, Port Union   \n",
       "2        M1E  Scarborough                Guildwood, Morningside, West Hill   \n",
       "3        M1G  Scarborough                                           Woburn   \n",
       "4        M1H  Scarborough                                        Cedarbrae   \n",
       "5        M1J  Scarborough                              Scarborough Village   \n",
       "6        M1K  Scarborough      East Birchmount Park, Ionview, Kennedy Park   \n",
       "7        M1L  Scarborough                  Clairlea, Golden Mile, Oakridge   \n",
       "8        M1M  Scarborough  Cliffcrest, Cliffside, Scarborough Village West   \n",
       "9        M1N  Scarborough                      Birch Cliff, Cliffside West   \n",
       "\n",
       "    Latitude  Longitude  \n",
       "0  43.811650 -79.195561  \n",
       "1  43.785605 -79.158701  \n",
       "2  43.765690 -79.175299  \n",
       "3  43.768216 -79.217610  \n",
       "4  43.769608 -79.239440  \n",
       "5  43.743085 -79.232172  \n",
       "6  43.726260 -79.263670  \n",
       "7  43.713213 -79.284910  \n",
       "8  43.723575 -79.234976  \n",
       "9  43.696690 -79.260069  "
      ]
     },
     "execution_count": 16,
     "metadata": {},
     "output_type": "execute_result"
    }
   ],
   "source": [
    "df.head(10)"
   ]
  },
  {
   "cell_type": "code",
   "execution_count": 17,
   "metadata": {
    "collapsed": false
   },
   "outputs": [],
   "source": [
    "import requests\n",
    "from bs4 import BeautifulSoup as bs\n",
    "import re\n",
    "\n",
    "import numpy as np # library to handle data in a vectorized manner\n",
    "import pandas as pd # library for data analsysis\n",
    "pd.set_option('display.max_columns', None)\n",
    "pd.set_option('display.max_rows', None)\n",
    "\n",
    "import json # library to handle JSON files\n",
    "\n",
    "from geopy.geocoders import Nominatim # convert an address into latitude and longitude values\n",
    "\n",
    "import requests # library to handle requests\n",
    "from pandas.io.json import json_normalize # tranform JSON file into a pandas dataframe\n",
    "\n",
    "# Matplotlib and associated plotting modules\n",
    "import matplotlib.cm as cm\n",
    "import matplotlib.colors as colors\n",
    "\n",
    "# import k-means from clustering stage\n",
    "from sklearn.cluster import KMeans\n",
    "\n",
    "import folium # map rendering library"
   ]
  },
  {
   "cell_type": "code",
   "execution_count": 18,
   "metadata": {
    "collapsed": false
   },
   "outputs": [
    {
     "name": "stderr",
     "output_type": "stream",
     "text": [
      "C:\\Users\\Kunal\\Anaconda2\\lib\\site-packages\\ipykernel\\__main__.py:3: DeprecationWarning: Using Nominatim with the default \"geopy/1.18.1\" `user_agent` is strongly discouraged, as it violates Nominatim's ToS https://operations.osmfoundation.org/policies/nominatim/ and may possibly cause 403 and 429 HTTP errors. Please specify a custom `user_agent` with `Nominatim(user_agent=\"my-application\")` or by overriding the default `user_agent`: `geopy.geocoders.options.default_user_agent = \"my-application\"`. In geopy 2.0 this will become an exception.\n",
      "  app.launch_new_instance()\n"
     ]
    },
    {
     "name": "stdout",
     "output_type": "stream",
     "text": [
      "The geograpical coordinate of Toronto are 43.653963, -79.387207.\n"
     ]
    },
    {
     "data": {
      "text/html": [
       "<div style=\"width:100%;\"><div style=\"position:relative;width:100%;height:0;padding-bottom:60%;\"><iframe src=\"data:text/html;charset=utf-8;base64,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\" style=\"position:absolute;width:100%;height:100%;left:0;top:0;border:none !important;\" allowfullscreen webkitallowfullscreen mozallowfullscreen></iframe></div></div>"
      ],
      "text/plain": [
       "<folium.folium.Map at 0xdb894a8>"
      ]
     },
     "execution_count": 18,
     "metadata": {},
     "output_type": "execute_result"
    }
   ],
   "source": [
    "address = 'Toronto'\n",
    "\n",
    "geolocator = Nominatim()\n",
    "location = geolocator.geocode(address)\n",
    "latitude = location.latitude\n",
    "longitude = location.longitude\n",
    "print('The geograpical coordinate of Toronto are {}, {}.'.format(latitude, longitude))\n",
    "\n",
    "# create map of New York using latitude and longitude values\n",
    "map_toronto = folium.Map(location=[latitude, longitude], zoom_start=10)\n",
    "\n",
    "# add markers to map\n",
    "for lat, lng, borough, neighborhood in zip(df['Latitude'], df['Longitude'], df['Borough'], df['Neighborhood']):\n",
    "    label = '{}, {}'.format(neighborhood, borough)\n",
    "    label = folium.Popup(label, parse_html=True)\n",
    "    folium.CircleMarker(\n",
    "        [lat, lng],\n",
    "        radius=5,\n",
    "        popup=label,\n",
    "        color='blue',\n",
    "        fill=True,\n",
    "        fill_color='#3186cc',\n",
    "        fill_opacity=0.7,\n",
    "        parse_html=False).add_to(map_toronto)  \n",
    "    \n",
    "map_toronto"
   ]
  },
  {
   "cell_type": "code",
   "execution_count": 19,
   "metadata": {
    "collapsed": false
   },
   "outputs": [
    {
     "name": "stderr",
     "output_type": "stream",
     "text": [
      "C:\\Users\\Kunal\\Anaconda2\\lib\\site-packages\\ipykernel\\__main__.py:4: DeprecationWarning: Using Nominatim with the default \"geopy/1.18.1\" `user_agent` is strongly discouraged, as it violates Nominatim's ToS https://operations.osmfoundation.org/policies/nominatim/ and may possibly cause 403 and 429 HTTP errors. Please specify a custom `user_agent` with `Nominatim(user_agent=\"my-application\")` or by overriding the default `user_agent`: `geopy.geocoders.options.default_user_agent = \"my-application\"`. In geopy 2.0 this will become an exception.\n"
     ]
    },
    {
     "name": "stdout",
     "output_type": "stream",
     "text": [
      "The geograpical coordinate of Scarborough are 43.773077, -79.257774.\n"
     ]
    }
   ],
   "source": [
    "scarborough_data = df[df['Borough'] == 'Scarborough'].reset_index(drop=True)\n",
    "address1 = 'Scarborough,Toronto'\n",
    "\n",
    "geolocator1 = Nominatim()\n",
    "location1 = geolocator1.geocode(address1)\n",
    "latitude1 = location1.latitude\n",
    "longitude1 = location1.longitude\n",
    "print('The geograpical coordinate of Scarborough are {}, {}.'.format(latitude1, longitude1))"
   ]
  },
  {
   "cell_type": "code",
   "execution_count": 20,
   "metadata": {
    "collapsed": false
   },
   "outputs": [
    {
     "data": {
      "text/html": [
       "<div style=\"width:100%;\"><div style=\"position:relative;width:100%;height:0;padding-bottom:60%;\"><iframe src=\"data:text/html;charset=utf-8;base64,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\" style=\"position:absolute;width:100%;height:100%;left:0;top:0;border:none !important;\" allowfullscreen webkitallowfullscreen mozallowfullscreen></iframe></div></div>"
      ],
      "text/plain": [
       "<folium.folium.Map at 0xe0d5e48>"
      ]
     },
     "execution_count": 20,
     "metadata": {},
     "output_type": "execute_result"
    }
   ],
   "source": [
    "map_scarb = folium.Map(location=[latitude1, longitude1], zoom_start=11)\n",
    "\n",
    "# add markers to map\n",
    "for lat, lng, label in zip(scarborough_data['Latitude'], scarborough_data['Longitude'], scarborough_data['Neighborhood']):\n",
    "    label = folium.Popup(label, parse_html=True)\n",
    "    folium.CircleMarker(\n",
    "        [lat, lng],\n",
    "        radius=5,\n",
    "        popup=label,\n",
    "        color='blue',\n",
    "        fill=True,\n",
    "        fill_color='#3186cc',\n",
    "        fill_opacity=0.7,\n",
    "        parse_html=False).add_to(map_scarb)  \n",
    "    \n",
    "map_scarb"
   ]
  },
  {
   "cell_type": "code",
   "execution_count": 21,
   "metadata": {
    "collapsed": false
   },
   "outputs": [
    {
     "name": "stdout",
     "output_type": "stream",
     "text": [
      "Latitude and longitude values of Rouge, Malvern are 43.81165, -79.195561389.\n"
     ]
    }
   ],
   "source": [
    "CLIENT_ID = 'ZAHVLM0PTQU2SEU351TEDQF5ILGIYLOF54QQIWPMUQOYSL4W'\n",
    "CLIENT_SECRET = 'JTSUMTSROPWBQVQLA2LXILXNNRV3MDAV2GLA3CBTWOONLCDR'\n",
    "VERSION = '20180605'\n",
    "neighborhood_latitude = scarborough_data.loc[0, 'Latitude'] # neighborhood latitude value\n",
    "neighborhood_longitude = scarborough_data.loc[0, 'Longitude'] # neighborhood longitude value\n",
    "\n",
    "neighborhood_name = scarborough_data.loc[0, 'Neighborhood'] # neighborhood name\n",
    "\n",
    "print('Latitude and longitude values of {} are {}, {}.'.format(neighborhood_name, \n",
    "                                                               neighborhood_latitude, \n",
    "                                                               neighborhood_longitude))\n",
    "\n",
    "LIMIT = 100\n",
    "radius = 500\n",
    "url = 'https://api.foursquare.com/v2/venues/explore?client_id={}&client_secret={}&ll={},{}&v={}&radius={}&limit={}'.format(CLIENT_ID, CLIENT_SECRET, latitude1, longitude1, VERSION, radius, LIMIT)"
   ]
  },
  {
   "cell_type": "code",
   "execution_count": 22,
   "metadata": {
    "collapsed": true
   },
   "outputs": [],
   "source": [
    "def get_category_type(row):\n",
    "    try:\n",
    "        categories_list = row['categories']\n",
    "    except:\n",
    "        categories_list = row['venue.categories']\n",
    "        \n",
    "    if len(categories_list) == 0:\n",
    "        return None\n",
    "    else:\n",
    "        return categories_list[0]['name']"
   ]
  },
  {
   "cell_type": "code",
   "execution_count": 23,
   "metadata": {
    "collapsed": false
   },
   "outputs": [
    {
     "data": {
      "text/html": [
       "<div>\n",
       "<table border=\"1\" class=\"dataframe\">\n",
       "  <thead>\n",
       "    <tr style=\"text-align: right;\">\n",
       "      <th></th>\n",
       "      <th>name</th>\n",
       "      <th>categories</th>\n",
       "      <th>lat</th>\n",
       "      <th>lng</th>\n",
       "    </tr>\n",
       "  </thead>\n",
       "  <tbody>\n",
       "    <tr>\n",
       "      <th>0</th>\n",
       "      <td>Disney Store</td>\n",
       "      <td>Toy / Game Store</td>\n",
       "      <td>43.775537</td>\n",
       "      <td>-79.256833</td>\n",
       "    </tr>\n",
       "    <tr>\n",
       "      <th>1</th>\n",
       "      <td>Tommy Hilfiger Company Store</td>\n",
       "      <td>Clothing Store</td>\n",
       "      <td>43.776015</td>\n",
       "      <td>-79.257369</td>\n",
       "    </tr>\n",
       "    <tr>\n",
       "      <th>2</th>\n",
       "      <td>DAVIDsTEA</td>\n",
       "      <td>Tea Room</td>\n",
       "      <td>43.776613</td>\n",
       "      <td>-79.258516</td>\n",
       "    </tr>\n",
       "    <tr>\n",
       "      <th>3</th>\n",
       "      <td>American Eagle Outfitters</td>\n",
       "      <td>Clothing Store</td>\n",
       "      <td>43.775908</td>\n",
       "      <td>-79.258352</td>\n",
       "    </tr>\n",
       "    <tr>\n",
       "      <th>4</th>\n",
       "      <td>SEPHORA</td>\n",
       "      <td>Cosmetics Shop</td>\n",
       "      <td>43.775592</td>\n",
       "      <td>-79.258242</td>\n",
       "    </tr>\n",
       "    <tr>\n",
       "      <th>5</th>\n",
       "      <td>Coliseum Scarborough Cinemas</td>\n",
       "      <td>Movie Theater</td>\n",
       "      <td>43.775995</td>\n",
       "      <td>-79.255649</td>\n",
       "    </tr>\n",
       "    <tr>\n",
       "      <th>6</th>\n",
       "      <td>Chipotle Mexican Grill</td>\n",
       "      <td>Mexican Restaurant</td>\n",
       "      <td>43.776410</td>\n",
       "      <td>-79.258069</td>\n",
       "    </tr>\n",
       "    <tr>\n",
       "      <th>7</th>\n",
       "      <td>St. Andrews Fish &amp; Chips</td>\n",
       "      <td>Fish &amp; Chips Shop</td>\n",
       "      <td>43.771865</td>\n",
       "      <td>-79.252645</td>\n",
       "    </tr>\n",
       "    <tr>\n",
       "      <th>8</th>\n",
       "      <td>Scarborough Town Centre</td>\n",
       "      <td>Shopping Mall</td>\n",
       "      <td>43.775545</td>\n",
       "      <td>-79.257545</td>\n",
       "    </tr>\n",
       "    <tr>\n",
       "      <th>9</th>\n",
       "      <td>Hot Topic</td>\n",
       "      <td>Clothing Store</td>\n",
       "      <td>43.775450</td>\n",
       "      <td>-79.257929</td>\n",
       "    </tr>\n",
       "    <tr>\n",
       "      <th>10</th>\n",
       "      <td>Moxie's Classic Grill</td>\n",
       "      <td>American Restaurant</td>\n",
       "      <td>43.776219</td>\n",
       "      <td>-79.256820</td>\n",
       "    </tr>\n",
       "    <tr>\n",
       "      <th>11</th>\n",
       "      <td>lululemon athletica</td>\n",
       "      <td>Sporting Goods Shop</td>\n",
       "      <td>43.775186</td>\n",
       "      <td>-79.258047</td>\n",
       "    </tr>\n",
       "  </tbody>\n",
       "</table>\n",
       "</div>"
      ],
      "text/plain": [
       "                            name           categories        lat        lng\n",
       "0                   Disney Store     Toy / Game Store  43.775537 -79.256833\n",
       "1   Tommy Hilfiger Company Store       Clothing Store  43.776015 -79.257369\n",
       "2                      DAVIDsTEA             Tea Room  43.776613 -79.258516\n",
       "3      American Eagle Outfitters       Clothing Store  43.775908 -79.258352\n",
       "4                        SEPHORA       Cosmetics Shop  43.775592 -79.258242\n",
       "5   Coliseum Scarborough Cinemas        Movie Theater  43.775995 -79.255649\n",
       "6         Chipotle Mexican Grill   Mexican Restaurant  43.776410 -79.258069\n",
       "7       St. Andrews Fish & Chips    Fish & Chips Shop  43.771865 -79.252645\n",
       "8        Scarborough Town Centre        Shopping Mall  43.775545 -79.257545\n",
       "9                      Hot Topic       Clothing Store  43.775450 -79.257929\n",
       "10         Moxie's Classic Grill  American Restaurant  43.776219 -79.256820\n",
       "11           lululemon athletica  Sporting Goods Shop  43.775186 -79.258047"
      ]
     },
     "execution_count": 23,
     "metadata": {},
     "output_type": "execute_result"
    }
   ],
   "source": [
    "results = requests.get(url).json()\n",
    "venues = results['response']['groups'][0]['items']\n",
    "    \n",
    "nearby_venues = json_normalize(venues) # flatten JSON\n",
    "\n",
    "# filter columns\n",
    "filtered_columns = ['venue.name', 'venue.categories', 'venue.location.lat', 'venue.location.lng']\n",
    "nearby_venues =nearby_venues.loc[:, filtered_columns]\n",
    "\n",
    "# filter the category for each row\n",
    "nearby_venues['venue.categories'] = nearby_venues.apply(get_category_type, axis=1)\n",
    "\n",
    "# clean columns\n",
    "nearby_venues.columns = [col.split(\".\")[-1] for col in nearby_venues.columns]\n",
    "\n",
    "nearby_venues.head(12)"
   ]
  },
  {
   "cell_type": "code",
   "execution_count": 24,
   "metadata": {
    "collapsed": false
   },
   "outputs": [],
   "source": [
    "def getNearbyVenues(names, latitudes, longitudes, radius=500):\n",
    "    \n",
    "    venues_list=[]\n",
    "    for name, lat, lng in zip(names, latitudes, longitudes):\n",
    "        print(name)\n",
    "            \n",
    "        # create the API request URL\n",
    "        url = 'https://api.foursquare.com/v2/venues/explore?&client_id={}&client_secret={}&v={}&ll={},{}&radius={}&limit={}'.format(\n",
    "            CLIENT_ID, \n",
    "            CLIENT_SECRET, \n",
    "            VERSION, \n",
    "            lat, \n",
    "            lng, \n",
    "            radius, \n",
    "            LIMIT)\n",
    "            \n",
    "        # make the GET request\n",
    "        results = requests.get(url).json()[\"response\"]['groups'][0]['items']\n",
    "        \n",
    "        # return only relevant information for each nearby venue\n",
    "        venues_list.append([(\n",
    "            name, \n",
    "            lat, \n",
    "            lng, \n",
    "            v['venue']['name'], \n",
    "            v['venue']['location']['lat'], \n",
    "            v['venue']['location']['lng'],  \n",
    "            v['venue']['categories'][0]['name']) for v in results])\n",
    "\n",
    "    nearby_venues = pd.DataFrame([item for venue_list in venues_list for item in venue_list])\n",
    "    nearby_venues.columns = ['Neighborhood', \n",
    "                  'Neighborhood Latitude', \n",
    "                  'Neighborhood Longitude', \n",
    "                  'Venue', \n",
    "                  'Venue Latitude', \n",
    "                  'Venue Longitude', \n",
    "                  'Venue Category']\n",
    "    \n",
    "    return(nearby_venues)"
   ]
  },
  {
   "cell_type": "code",
   "execution_count": 25,
   "metadata": {
    "collapsed": false
   },
   "outputs": [
    {
     "name": "stdout",
     "output_type": "stream",
     "text": [
      "Rouge, Malvern\n",
      "Highland Creek, Rouge Hill, Port Union\n",
      "Guildwood, Morningside, West Hill\n",
      "Woburn\n",
      "Cedarbrae\n",
      "Scarborough Village\n",
      "East Birchmount Park, Ionview, Kennedy Park\n",
      "Clairlea, Golden Mile, Oakridge\n",
      "Cliffcrest, Cliffside, Scarborough Village West\n",
      "Birch Cliff, Cliffside West\n",
      "Dorset Park, Scarborough Town Centre, Wexford Heights\n",
      "Maryvale, Wexford\n",
      "Agincourt\n",
      "Clarks Corners, Sullivan, Tam O'Shanter\n",
      "Agincourt North, L'Amoreaux East, Milliken, Steeles East\n",
      "L'Amoreaux West, Steeles West\n",
      "Upper Rouge\n"
     ]
    }
   ],
   "source": [
    "\n",
    "scarborough_venues = getNearbyVenues(names=scarborough_data['Neighborhood'],\n",
    "                                   latitudes=scarborough_data['Latitude'],\n",
    "                                   longitudes=scarborough_data['Longitude']\n",
    "                                  )"
   ]
  },
  {
   "cell_type": "code",
   "execution_count": 26,
   "metadata": {
    "collapsed": false
   },
   "outputs": [
    {
     "name": "stdout",
     "output_type": "stream",
     "text": [
      "                                                    Neighborhood Latitude  \\\n",
      "Neighborhood                                                                \n",
      "Agincourt                                                              13   \n",
      "Agincourt North, L'Amoreaux East, Milliken, Ste...                      3   \n",
      "Birch Cliff, Cliffside West                                             6   \n",
      "Cedarbrae                                                               2   \n",
      "\n",
      "                                                    Neighborhood Longitude  \\\n",
      "Neighborhood                                                                 \n",
      "Agincourt                                                               13   \n",
      "Agincourt North, L'Amoreaux East, Milliken, Ste...                       3   \n",
      "Birch Cliff, Cliffside West                                              6   \n",
      "Cedarbrae                                                                2   \n",
      "\n",
      "                                                    Venue  Venue Latitude  \\\n",
      "Neighborhood                                                                \n",
      "Agincourt                                              13              13   \n",
      "Agincourt North, L'Amoreaux East, Milliken, Ste...      3               3   \n",
      "Birch Cliff, Cliffside West                             6               6   \n",
      "Cedarbrae                                               2               2   \n",
      "\n",
      "                                                    Venue Longitude  \\\n",
      "Neighborhood                                                          \n",
      "Agincourt                                                        13   \n",
      "Agincourt North, L'Amoreaux East, Milliken, Ste...                3   \n",
      "Birch Cliff, Cliffside West                                       6   \n",
      "Cedarbrae                                                         2   \n",
      "\n",
      "                                                    Venue Category  \n",
      "Neighborhood                                                        \n",
      "Agincourt                                                       13  \n",
      "Agincourt North, L'Amoreaux East, Milliken, Ste...               3  \n",
      "Birch Cliff, Cliffside West                                      6  \n",
      "Cedarbrae                                                        2  \n"
     ]
    }
   ],
   "source": [
    "scarborough_venues.head(3)\n",
    "print(scarborough_venues.groupby('Neighborhood').count()[:4])"
   ]
  },
  {
   "cell_type": "code",
   "execution_count": 27,
   "metadata": {
    "collapsed": true
   },
   "outputs": [],
   "source": [
    "# one hot encoding\n",
    "scarb_onehot = pd.get_dummies(scarborough_venues[['Venue Category']], prefix=\"\", prefix_sep=\"\")\n",
    "\n",
    "# add neighborhood column back to dataframe\n",
    "scarb_onehot['Neighborhood'] = scarborough_venues['Neighborhood'] \n",
    "\n",
    "# move neighborhood column to the first column\n",
    "fixed_columns = [scarb_onehot.columns[-1]] + list(scarb_onehot.columns[:-1])\n",
    "scarb_onehot = scarb_onehot[fixed_columns]\n",
    "\n",
    "scarb_grouped = scarb_onehot.groupby('Neighborhood').mean().reset_index()"
   ]
  },
  {
   "cell_type": "markdown",
   "metadata": {},
   "source": [
    "# Getting top 10 venues per neighborhood"
   ]
  },
  {
   "cell_type": "code",
   "execution_count": 28,
   "metadata": {
    "collapsed": false
   },
   "outputs": [],
   "source": [
    "def return_most_common_venues(row, num_top_venues):\n",
    "    row_categories = row.iloc[1:]\n",
    "    row_categories_sorted = row_categories.sort_values(ascending=False)\n",
    "    \n",
    "    return row_categories_sorted.index.values[0:num_top_venues]"
   ]
  },
  {
   "cell_type": "code",
   "execution_count": 29,
   "metadata": {
    "collapsed": true
   },
   "outputs": [],
   "source": [
    "\n",
    "num_top_venues = 10\n",
    "\n",
    "indicators = ['st', 'nd', 'rd']\n",
    "\n",
    "# create columns according to number of top venues\n",
    "columns = ['Neighborhood']\n",
    "for ind in np.arange(num_top_venues):\n",
    "    try:\n",
    "        columns.append('{}{} Most Common Venue'.format(ind+1, indicators[ind]))\n",
    "    except:\n",
    "        columns.append('{}th Most Common Venue'.format(ind+1))\n",
    "\n",
    "# create a new dataframe\n",
    "neighborhoods_venues_sorted = pd.DataFrame(columns=columns)\n",
    "neighborhoods_venues_sorted['Neighborhood'] = scarb_grouped['Neighborhood']\n",
    "\n",
    "for ind in np.arange(scarb_grouped.shape[0]):\n",
    "    neighborhoods_venues_sorted.iloc[ind, 1:] = return_most_common_venues(scarb_grouped.iloc[ind, :], num_top_venues)"
   ]
  },
  {
   "cell_type": "markdown",
   "metadata": {},
   "source": [
    "# Run k-means to Cluster into 5 clusters"
   ]
  },
  {
   "cell_type": "code",
   "execution_count": 30,
   "metadata": {
    "collapsed": false
   },
   "outputs": [
    {
     "data": {
      "text/plain": [
       "array([0, 3, 0, 1, 0, 0, 0, 0, 0, 0])"
      ]
     },
     "execution_count": 30,
     "metadata": {},
     "output_type": "execute_result"
    }
   ],
   "source": [
    "\n",
    "scarb_data = scarborough_data.drop(16)\n",
    "# set number of clusters\n",
    "kclusters = 5\n",
    "\n",
    "scarb_grouped_clustering = scarb_grouped.drop('Neighborhood', 1)\n",
    "\n",
    "# run k-means clustering\n",
    "kmeans = KMeans(n_clusters=kclusters, random_state=0).fit(scarb_grouped_clustering)\n",
    "\n",
    "# check cluster labels generated for each row in the dataframe\n",
    "kmeans.labels_[0:10]"
   ]
  },
  {
   "cell_type": "code",
   "execution_count": 31,
   "metadata": {
    "collapsed": true
   },
   "outputs": [],
   "source": [
    "scarb_merged = scarb_data\n",
    "\n",
    "# add clustering labels\n",
    "scarb_merged['Cluster Labels'] = kmeans.labels_\n",
    "\n",
    "# merge toronto_grouped with toronto_data to add latitude/longitude for each neighborhood\n",
    "scarb_merged = scarb_merged.join(neighborhoods_venues_sorted.set_index('Neighborhood'), on='Neighborhood')"
   ]
  },
  {
   "cell_type": "markdown",
   "metadata": {},
   "source": [
    "# Visualize the Cluster"
   ]
  },
  {
   "cell_type": "code",
   "execution_count": 32,
   "metadata": {
    "collapsed": false
   },
   "outputs": [
    {
     "data": {
      "text/html": [
       "<div style=\"width:100%;\"><div style=\"position:relative;width:100%;height:0;padding-bottom:60%;\"><iframe src=\"data:text/html;charset=utf-8;base64,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\" style=\"position:absolute;width:100%;height:100%;left:0;top:0;border:none !important;\" allowfullscreen webkitallowfullscreen mozallowfullscreen></iframe></div></div>"
      ],
      "text/plain": [
       "<folium.folium.Map at 0xe5d98d0>"
      ]
     },
     "execution_count": 32,
     "metadata": {},
     "output_type": "execute_result"
    }
   ],
   "source": [
    "map_clusters = folium.Map(location=[latitude, longitude], zoom_start=11)\n",
    "\n",
    "# set color scheme for the clusters\n",
    "x = np.arange(kclusters)\n",
    "ys = [i+x+(i*x)**2 for i in range(kclusters)]\n",
    "colors_array = cm.rainbow(np.linspace(0, 1, len(ys)))\n",
    "rainbow = [colors.rgb2hex(i) for i in colors_array]\n",
    "\n",
    "# add markers to the map\n",
    "markers_colors = []\n",
    "for lat, lon, poi, cluster in zip(scarb_merged['Latitude'], scarb_merged['Longitude'], scarb_merged['Neighborhood'], scarb_merged['Cluster Labels']):\n",
    "    label = folium.Popup(str(poi) + ' Cluster ' + str(cluster), parse_html=True)\n",
    "    folium.CircleMarker(\n",
    "        [lat, lon],\n",
    "        radius=5,\n",
    "        popup=label,\n",
    "        color=rainbow[cluster-1],\n",
    "        fill=True,\n",
    "        fill_color=rainbow[cluster-1],\n",
    "        fill_opacity=0.7).add_to(map_clusters)\n",
    "       \n",
    "map_clusters"
   ]
  },
  {
   "cell_type": "code",
   "execution_count": null,
   "metadata": {
    "collapsed": true
   },
   "outputs": [],
   "source": []
  }
 ],
 "metadata": {
  "kernelspec": {
   "display_name": "Python 2",
   "language": "python",
   "name": "python2"
  },
  "language_info": {
   "codemirror_mode": {
    "name": "ipython",
    "version": 2
   },
   "file_extension": ".py",
   "mimetype": "text/x-python",
   "name": "python",
   "nbconvert_exporter": "python",
   "pygments_lexer": "ipython2",
   "version": "2.7.13"
  }
 },
 "nbformat": 4,
 "nbformat_minor": 2
}
